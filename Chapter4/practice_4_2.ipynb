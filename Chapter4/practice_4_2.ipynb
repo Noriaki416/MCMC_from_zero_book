{
 "cells": [
  {
   "cell_type": "code",
   "execution_count": 1,
   "metadata": {},
   "outputs": [],
   "source": [
    "import numpy as np\n",
    "import matplotlib.pyplot as plt\n",
    "%matplotlib inline"
   ]
  },
  {
   "cell_type": "code",
   "execution_count": 2,
   "metadata": {},
   "outputs": [],
   "source": [
    "def get_normal_dist(center1=0.0, center2=100.0, left=-4, right=120):\n",
    "    width = (right - left)\n",
    "    num_grids = 10**5\n",
    "    diff = width / num_grids\n",
    "    pos = [left + diff * i for i in range(num_grids)]\n",
    "    norm = np.sqrt(2 * np.pi) * 2\n",
    "    normal = [1.0/norm*(np.exp(-0.5 * (left + diff * i - center1)**2) + np.exp(-0.5 * (left + diff * i - center2)**2)) for i in range(num_grids)]\n",
    "    return pos, normal"
   ]
  },
  {
   "cell_type": "code",
   "execution_count": 3,
   "metadata": {},
   "outputs": [],
   "source": [
    "def do_MCMC(niter=10**7, x=0.0, seed=1111):\n",
    "    naccept = 0\n",
    "    data = []\n",
    "    np.random.seed(seed)\n",
    "    for i in range(niter):\n",
    "        if i % 2 == 0:\n",
    "            step_left = -1\n",
    "            step_right = 1\n",
    "        else:\n",
    "            step_left = -100\n",
    "            step_right = 100\n",
    "        backup_x = x\n",
    "        action_init = -np.log(np.exp(-0.5*x**2) + np.exp(-0.5*(x-100)**2))\n",
    "        # dx in [step_left, step_right]\n",
    "        dx = (step_right - step_left) * np.random.rand() + step_left\n",
    "        x += dx\n",
    "        action_fin = -np.log(np.exp(-0.5*x**2) + np.exp(-0.5*(x-100)**2))\n",
    "        if np.exp(action_init - action_fin) > np.random.rand():\n",
    "            # accept\n",
    "            naccept += 1\n",
    "        else:\n",
    "            x = backup_x\n",
    "        data.append(x)\n",
    "    return data"
   ]
  },
  {
   "cell_type": "code",
   "execution_count": 6,
   "metadata": {},
   "outputs": [
    {
     "name": "stderr",
     "output_type": "stream",
     "text": [
      "/opt/conda/lib/python3.6/site-packages/ipykernel_launcher.py:17: RuntimeWarning: divide by zero encountered in log\n"
     ]
    },
    {
     "data": {
      "image/png": "[encoded data removed]",
      "text/plain": [
       "<Figure size 432x288 with 1 Axes>"
      ]
     },
     "metadata": {
      "needs_background": "light"
     },
     "output_type": "display_data"
    }
   ],
   "source": [
    "data = do_MCMC()\n",
    "pos, normal = get_normal_dist()\n",
    "plt.plot(pos, normal, label='Analytic')\n",
    "plt.hist(data, bins=1000, density=True, label='MCMC')\n",
    "plt.legend()\n",
    "plt.savefig('./fig/practice4_2_iter10_7.jpg')\n",
    "plt.show()"
   ]
  },
  {
   "cell_type": "code",
   "execution_count": null,
   "metadata": {},
   "outputs": [],
   "source": []
  }
 ],
 "metadata": {
  "kernelspec": {
   "display_name": "Python 3",
   "language": "python",
   "name": "python3"
  },
  "language_info": {
   "codemirror_mode": {
    "name": "ipython",
    "version": 3
   },
   "file_extension": ".py",
   "mimetype": "text/x-python",
   "name": "python",
   "nbconvert_exporter": "python",
   "pygments_lexer": "ipython3",
   "version": "3.6.7"
  }
 },
 "nbformat": 4,
 "nbformat_minor": 2
}
